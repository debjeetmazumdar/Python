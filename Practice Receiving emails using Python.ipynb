{
 "cells": [
  {
   "cell_type": "code",
   "execution_count": 1,
   "id": "40fbd88a",
   "metadata": {},
   "outputs": [],
   "source": [
    "import imaplib # importing built in library to view emails"
   ]
  },
  {
   "cell_type": "code",
   "execution_count": 2,
   "id": "f3f2dde8",
   "metadata": {},
   "outputs": [],
   "source": [
    "connection_instance=imaplib.IMAP4_SSL('imap.gmail.com') # connection to gmail imap server"
   ]
  },
  {
   "cell_type": "code",
   "execution_count": 3,
   "id": "110620f1",
   "metadata": {},
   "outputs": [],
   "source": [
    "import getpass # importing built in library to get non-readable password "
   ]
  },
  {
   "cell_type": "code",
   "execution_count": 4,
   "id": "80716eb6",
   "metadata": {},
   "outputs": [
    {
     "name": "stdout",
     "output_type": "stream",
     "text": [
      "Enter email id: debjeetmazumdar@gmail.com\n",
      "Enter password: ········\n"
     ]
    },
    {
     "data": {
      "text/plain": [
       "('OK',\n",
       " [b'(\\\\HasNoChildren) \"/\" \"INBOX\"',\n",
       "  b'(\\\\HasNoChildren) \"/\" \"Personal\"',\n",
       "  b'(\\\\HasNoChildren) \"/\" \"Receipts\"',\n",
       "  b'(\\\\HasNoChildren) \"/\" \"Work\"',\n",
       "  b'(\\\\HasChildren \\\\Noselect) \"/\" \"[Gmail]\"',\n",
       "  b'(\\\\All \\\\HasNoChildren) \"/\" \"[Gmail]/All Mail\"',\n",
       "  b'(\\\\Drafts \\\\HasNoChildren) \"/\" \"[Gmail]/Drafts\"',\n",
       "  b'(\\\\HasNoChildren \\\\Important) \"/\" \"[Gmail]/Important\"',\n",
       "  b'(\\\\HasNoChildren \\\\Sent) \"/\" \"[Gmail]/Sent Mail\"',\n",
       "  b'(\\\\HasNoChildren \\\\Junk) \"/\" \"[Gmail]/Spam\"',\n",
       "  b'(\\\\Flagged \\\\HasNoChildren) \"/\" \"[Gmail]/Starred\"',\n",
       "  b'(\\\\HasNoChildren \\\\Trash) \"/\" \"[Gmail]/Trash\"'])"
      ]
     },
     "execution_count": 4,
     "metadata": {},
     "output_type": "execute_result"
    }
   ],
   "source": [
    "# get user email id and password\n",
    "\n",
    "email_id= input(\"Enter email id: \")\n",
    "password= getpass.getpass(\"Enter password: \")\n",
    "\n",
    "\n",
    "#make a login attempt over the established connection instance\n",
    "\n",
    "connection_instance.login(email_id,password)\n",
    "\n",
    "#make a check if login was successfull\n",
    "\n",
    "connection_instance.list()"
   ]
  },
  {
   "cell_type": "code",
   "execution_count": 5,
   "id": "504d3c2b",
   "metadata": {},
   "outputs": [
    {
     "data": {
      "text/plain": [
       "('OK', [b'1000'])"
      ]
     },
     "execution_count": 5,
     "metadata": {},
     "output_type": "execute_result"
    }
   ],
   "source": [
    "connection_instance.select('INBOX')  #select desired mail box/folder"
   ]
  },
  {
   "cell_type": "code",
   "execution_count": 7,
   "id": "1f2f2c6c",
   "metadata": {},
   "outputs": [],
   "source": [
    "typ,data=connection_instance.search(None,'SUBJECT \"Test123\"') #search using subject .Other options available like from, to etc"
   ]
  },
  {
   "cell_type": "code",
   "execution_count": 8,
   "id": "f8db6d1d",
   "metadata": {},
   "outputs": [
    {
     "data": {
      "text/plain": [
       "'OK'"
      ]
     },
     "execution_count": 8,
     "metadata": {},
     "output_type": "execute_result"
    }
   ],
   "source": [
    "typ"
   ]
  },
  {
   "cell_type": "code",
   "execution_count": 9,
   "id": "97714fa6",
   "metadata": {},
   "outputs": [
    {
     "data": {
      "text/plain": [
       "[b'1000']"
      ]
     },
     "execution_count": 9,
     "metadata": {},
     "output_type": "execute_result"
    }
   ],
   "source": [
    "data"
   ]
  },
  {
   "cell_type": "code",
   "execution_count": 10,
   "id": "324bbb6f",
   "metadata": {},
   "outputs": [],
   "source": [
    "matched_email=data[0]  # fetching first matched email from the list"
   ]
  },
  {
   "cell_type": "code",
   "execution_count": 11,
   "id": "95e3cfc6",
   "metadata": {},
   "outputs": [
    {
     "name": "stdout",
     "output_type": "stream",
     "text": [
      "b'1000'\n"
     ]
    }
   ],
   "source": [
    "for dat in data[0].split():\n",
    "    \n",
    "    print(dat)\n",
    "    \n",
    "    result,email_data=connection_instance.fetch(dat,\"(RFC822)\")\n",
    "\n"
   ]
  },
  {
   "cell_type": "code",
   "execution_count": 12,
   "id": "b0e7871e",
   "metadata": {},
   "outputs": [
    {
     "data": {
      "text/plain": [
       "[(b'1000 (RFC822 {569}',\n",
       "  b'Bcc: debjeetmazumdar@gmail.com\\r\\nReturn-Path: <debjeet.mazumdar@gmail.com>\\r\\nReceived: from N-20HEPF0YSCAT.nsn-intra.net ([49.207.196.204])\\r\\n        by smtp.gmail.com with ESMTPSA id a23sm17150795pff.43.2021.07.12.22.14.18\\r\\n        for <debjeetmazumdar@gmail.com>\\r\\n        (version=TLS1_3 cipher=TLS_AES_256_GCM_SHA384 bits=256/256);\\r\\n        Mon, 12 Jul 2021 22:14:18 -0700 (PDT)\\r\\nMessage-ID: <60ed212a.1c69fb81.49a66.4a03@mx.google.com>\\r\\nDate: Mon, 12 Jul 2021 22:14:18 -0700 (PDT)\\r\\nFrom: debjeet.mazumdar@gmail.com\\r\\nSubject: Test123\\r\\n\\r\\nThis is a test123 message body\\r\\n'),\n",
       " b' FLAGS (\\\\Seen))']"
      ]
     },
     "execution_count": 12,
     "metadata": {},
     "output_type": "execute_result"
    }
   ],
   "source": [
    "email_data #messed up matched email data"
   ]
  },
  {
   "cell_type": "code",
   "execution_count": 13,
   "id": "776331cf",
   "metadata": {},
   "outputs": [],
   "source": [
    "actual_message=email_data[0][1]  #parsing to get the email body"
   ]
  },
  {
   "cell_type": "code",
   "execution_count": 14,
   "id": "bdc6caec",
   "metadata": {},
   "outputs": [
    {
     "name": "stdout",
     "output_type": "stream",
     "text": [
      "Bcc: debjeetmazumdar@gmail.com\r\n",
      "Return-Path: <debjeet.mazumdar@gmail.com>\r\n",
      "Received: from N-20HEPF0YSCAT.nsn-intra.net ([49.207.196.204])\r\n",
      "        by smtp.gmail.com with ESMTPSA id a23sm17150795pff.43.2021.07.12.22.14.18\r\n",
      "        for <debjeetmazumdar@gmail.com>\r\n",
      "        (version=TLS1_3 cipher=TLS_AES_256_GCM_SHA384 bits=256/256);\r\n",
      "        Mon, 12 Jul 2021 22:14:18 -0700 (PDT)\r\n",
      "Message-ID: <60ed212a.1c69fb81.49a66.4a03@mx.google.com>\r\n",
      "Date: Mon, 12 Jul 2021 22:14:18 -0700 (PDT)\r\n",
      "From: debjeet.mazumdar@gmail.com\r\n",
      "Subject: Test123\r\n",
      "\r\n",
      "This is a test123 message body\r\n",
      "\n"
     ]
    },
    {
     "data": {
      "text/plain": [
       "str"
      ]
     },
     "execution_count": 14,
     "metadata": {},
     "output_type": "execute_result"
    }
   ],
   "source": [
    "decoded_actual_message = actual_message.decode('utf-8')  #decoding as there can be special characters like @\n",
    "\n",
    "print(decoded_actual_message)\n",
    "\n",
    "type(decoded_actual_message)"
   ]
  },
  {
   "cell_type": "code",
   "execution_count": 15,
   "id": "927e8f0f",
   "metadata": {},
   "outputs": [],
   "source": [
    "import email    # importing built in email lib to parse through the above string"
   ]
  },
  {
   "cell_type": "code",
   "execution_count": 16,
   "id": "a110c87a",
   "metadata": {},
   "outputs": [
    {
     "name": "stdout",
     "output_type": "stream",
     "text": [
      "Bcc: debjeetmazumdar@gmail.com\n",
      "Return-Path: <debjeet.mazumdar@gmail.com>\n",
      "Received: from N-20HEPF0YSCAT.nsn-intra.net ([49.207.196.204])\n",
      "        by smtp.gmail.com with ESMTPSA id a23sm17150795pff.43.2021.07.12.22.14.18\n",
      "        for <debjeetmazumdar@gmail.com>\n",
      "        (version=TLS1_3 cipher=TLS_AES_256_GCM_SHA384 bits=256/256);\n",
      "        Mon, 12 Jul 2021 22:14:18 -0700 (PDT)\n",
      "Message-ID: <60ed212a.1c69fb81.49a66.4a03@mx.google.com>\n",
      "Date: Mon, 12 Jul 2021 22:14:18 -0700 (PDT)\n",
      "From: debjeet.mazumdar@gmail.com\n",
      "Subject: Test123\n",
      "\n",
      "This is a test123 message body\n",
      "\n"
     ]
    },
    {
     "data": {
      "text/plain": [
       "email.message.Message"
      ]
     },
     "execution_count": 16,
     "metadata": {},
     "output_type": "execute_result"
    }
   ],
   "source": [
    "email_message=email.message_from_string(decoded_actual_message)\n",
    "\n",
    "print(email_message)\n",
    "\n",
    "type(email_message)"
   ]
  },
  {
   "cell_type": "code",
   "execution_count": 17,
   "id": "f491669e",
   "metadata": {},
   "outputs": [
    {
     "name": "stdout",
     "output_type": "stream",
     "text": [
      "text/plain\n",
      "This is a test123 message body\r\n",
      "\n"
     ]
    }
   ],
   "source": [
    "for part in email_message.walk():\n",
    "    print(part.get_content_type())\n",
    "    if part.get_content_type()=='text/plain':\n",
    "        body=part.get_payload()\n",
    "        print(body)\n",
    "    "
   ]
  },
  {
   "cell_type": "code",
   "execution_count": null,
   "id": "f23b1c06",
   "metadata": {},
   "outputs": [],
   "source": []
  }
 ],
 "metadata": {
  "kernelspec": {
   "display_name": "Python 3",
   "language": "python",
   "name": "python3"
  },
  "language_info": {
   "codemirror_mode": {
    "name": "ipython",
    "version": 3
   },
   "file_extension": ".py",
   "mimetype": "text/x-python",
   "name": "python",
   "nbconvert_exporter": "python",
   "pygments_lexer": "ipython3",
   "version": "3.8.8"
  }
 },
 "nbformat": 4,
 "nbformat_minor": 5
}
